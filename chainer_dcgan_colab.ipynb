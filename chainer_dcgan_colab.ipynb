{
  "nbformat": 4,
  "nbformat_minor": 0,
  "metadata": {
    "colab": {
      "name": "chainer-dcgan-colab.ipynb",
      "provenance": [],
      "private_outputs": true,
      "collapsed_sections": [],
      "toc_visible": true,
      "include_colab_link": true
    },
    "kernelspec": {
      "name": "python2",
      "display_name": "Python 2"
    },
    "accelerator": "GPU"
  },
  "cells": [
    {
      "cell_type": "markdown",
      "metadata": {
        "id": "view-in-github",
        "colab_type": "text"
      },
      "source": [
        "<a href=\"https://colab.research.google.com/github/smapira/chainer-dcgan-colab/blob/master/chainer_dcgan_colab.ipynb\" target=\"_parent\"><img src=\"https://colab.research.google.com/assets/colab-badge.svg\" alt=\"Open In Colab\"/></a>"
      ]
    },
    {
      "cell_type": "code",
      "metadata": {
        "id": "ConhrRLuPlnx",
        "colab_type": "code",
        "colab": {}
      },
      "source": [
        "from google.colab import output\n",
        "output.eval_js('new Audio(\"https://upload.wikimedia.org/wikipedia/commons/0/05/Beep-09.ogg\").play()')"
      ],
      "execution_count": 0,
      "outputs": []
    },
    {
      "cell_type": "code",
      "metadata": {
        "id": "nJB5LUnd1Fru",
        "colab_type": "code",
        "colab": {}
      },
      "source": [
        "!git clone https://github.com/smapira/chainer-dcgan-colab "
      ],
      "execution_count": 0,
      "outputs": []
    },
    {
      "cell_type": "code",
      "metadata": {
        "id": "QpK5fu7DMrTc",
        "colab_type": "code",
        "colab": {}
      },
      "source": [
        "from google.colab import drive\n",
        "drive.mount('/content/drive')"
      ],
      "execution_count": 0,
      "outputs": []
    },
    {
      "cell_type": "code",
      "metadata": {
        "id": "rz6cEEKFMw7A",
        "colab_type": "code",
        "colab": {}
      },
      "source": [
        "!cp -pr /content/drive/My\\ Drive/ml/2020-8.zip 2020-8.zip"
      ],
      "execution_count": 0,
      "outputs": []
    },
    {
      "cell_type": "code",
      "metadata": {
        "id": "iWLxRODkO6P7",
        "colab_type": "code",
        "colab": {}
      },
      "source": [
        "!unzip -q 2020-8.zip"
      ],
      "execution_count": 0,
      "outputs": []
    },
    {
      "cell_type": "code",
      "metadata": {
        "id": "DHcKPFqOQRIi",
        "colab_type": "code",
        "colab": {}
      },
      "source": [
        "!mkdir /content/drive/My\\ Drive/ml/result"
      ],
      "execution_count": 0,
      "outputs": []
    },
    {
      "cell_type": "code",
      "metadata": {
        "id": "sALa2lavPPN3",
        "colab_type": "code",
        "colab": {}
      },
      "source": [
        "%run chainer-dcgan-colab/train_dcgan.py --gpu 0 \\\n",
        "--dataset 2020-8 \\\n",
        "--snapshot_interval 500 \\\n",
        "--display_interval 100 \\\n",
        "--out /content/drive/My\\ Drive/ml/result \\\n",
        "--epoch 1000"
      ],
      "execution_count": 0,
      "outputs": []
    },
    {
      "cell_type": "code",
      "metadata": {
        "id": "j-fd0mzfQKTC",
        "colab_type": "code",
        "colab": {}
      },
      "source": [
        "%run chainer-dcgan-colab/train_dcgan.py --gpu 0 \\\n",
        "--dataset 2020-8 \\\n",
        "--snapshot_interval 500 \\\n",
        "--display_interval 100 \\\n",
        "--resume /content/drive/My\\ Drive/ml/result/snapshot_iter_3500.npz \\\n",
        "--out /content/drive/My\\ Drive/ml/result \\\n",
        "--epoch 1000"
      ],
      "execution_count": 0,
      "outputs": []
    },
    {
      "cell_type": "code",
      "metadata": {
        "id": "A9bvnSoDQF2p",
        "colab_type": "code",
        "colab": {}
      },
      "source": [
        ""
      ],
      "execution_count": 0,
      "outputs": []
    }
  ]
}